{
 "cells": [
  {
   "cell_type": "markdown",
   "metadata": {},
   "source": [
    "1D packing First-Fit (FF) : Insérer chaque objet dans le premier bac disponible où il peut rentrer."
   ]
  },
  {
   "cell_type": "code",
   "execution_count": 1,
   "metadata": {},
   "outputs": [
    {
     "name": "stdout",
     "output_type": "stream",
     "text": [
      "Bac 1: Objets = [1, 2, 3, 4], Taille totale = 10\n",
      "Bac 2: Objets = [5], Taille totale = 5\n",
      "Bac 3: Objets = [6], Taille totale = 6\n",
      "Bac 4: Objets = [7], Taille totale = 7\n",
      "Bac 5: Objets = [8], Taille totale = 8\n",
      "Bac 6: Objets = [9], Taille totale = 9\n"
     ]
    }
   ],
   "source": [
    "# Définition de la fonction First Fit\n",
    "def first_fit(objets, taille_bac):\n",
    "    bacs = [{'taille': taille_bac, 'objets_INS': []}]\n",
    "    for objet in objets:\n",
    "        for bac in bacs:\n",
    "            if objet <= bac['taille']:\n",
    "                bac['objets_INS'].append(objet)\n",
    "                # Corrected variable name and operation\n",
    "                bac['taille'] = bac['taille'] -objet\n",
    "                break\n",
    "        else:\n",
    "            # Si aucun bac n'a accueilli l'objet, on en crée un nouveau\n",
    "            bacs.append({'taille': taille_bac - objet, 'objets_INS': [objet]})\n",
    "    return bacs\n",
    "\n",
    "\n",
    "# Exemple d'utilisation\n",
    "objets = [1, 2, 3, 4, 5, 6, 7, 8, 9]\n",
    "taille_bac = 10\n",
    "bacs = first_fit(objets, taille_bac)\n",
    "\n",
    "# Affichage des résultats\n",
    "for i, bac in enumerate(bacs, start=1):\n",
    "    print(f\"Bac {i}: Objets = {bac['objets_INS']}, Taille totale = {sum(bac['objets_INS'])}\")"
   ]
  }
 ],
 "metadata": {
  "kernelspec": {
   "display_name": "Python 3 (ipykernel)",
   "language": "python",
   "name": "python3"
  },
  "language_info": {
   "codemirror_mode": {
    "name": "ipython",
    "version": 3
   },
   "file_extension": ".py",
   "mimetype": "text/x-python",
   "name": "python",
   "nbconvert_exporter": "python",
   "pygments_lexer": "ipython3",
   "version": "3.12.1"
  }
 },
 "nbformat": 4,
 "nbformat_minor": 4
}

{
 "cells": [
  {
   "cell_type": "markdown",
   "metadata": {},
   "source": [
    "## Construction de l'algorithme "
   ]
  },
  {
   "cell_type": "code",
   "execution_count": 71,
   "metadata": {},
   "outputs": [],
   "source": [
    "tailleBac = 348\n",
    "\n",
    "Objets = [ 30,24,57,19,23,48]    \n",
    "\n",
    "# un seul bac pour le moment\n",
    "bacs = [\n",
    "\t{ \n",
    "\t\t\"taille\" : tailleBac, \n",
    "\t\t\"contenu\" : [\n",
    "\t\t\t{\"indexObjet\" : 0 , \"taille\":20 }\n",
    "\t\t]\n",
    "\t}\n",
    "]"
   ]
  },
  {
   "cell_type": "code",
   "execution_count": 72,
   "metadata": {},
   "outputs": [],
   "source": [
    "# pour trouver la taille restante disponible dans un bac\n",
    "def place_restante(bac):\n",
    "    # Function to calculate the remaining space in a bin\n",
    "    return bac[\"taille\"] - sum(item[\"taille\"] for item in bac[\"contenu\"])"
   ]
  },
  {
   "cell_type": "code",
   "execution_count": 73,
   "metadata": {},
   "outputs": [],
   "source": [
    "def worstFit(objets: list, bacsMax: int, taillebacs: int):\n",
    "    bacs = [{\"taille\": taillebacs, \"contenu\": []} for _ in range(bacsMax)]\n",
    "    for indexObjet, objet in enumerate(objets):\n",
    "        malalaka_be = -1\n",
    "        place_malalaka = 0\n",
    "        \n",
    "        for indexBac, bac in enumerate(bacs):\n",
    "            place_ambiny = place_restante(bac)\n",
    "            if (malalaka_be == -1 or place_ambiny > place_malalaka) and place_ambiny >= objet:\n",
    "                malalaka_be = indexBac\n",
    "                place_malalaka = place_ambiny\n",
    "\n",
    "        if malalaka_be == -1:\n",
    "            return indexObjet\n",
    "        \n",
    "        bacs[malalaka_be][\"contenu\"].append({\"indexObjet\": indexObjet, \"taille\": objet})\n",
    "    \n",
    "    return bacs\n"
   ]
  },
  {
   "cell_type": "code",
   "execution_count": 74,
   "metadata": {},
   "outputs": [
    {
     "name": "stdout",
     "output_type": "stream",
     "text": [
      "Bac 1: [{'indexObjet': 0, 'taille': 21}, {'indexObjet': 4, 'taille': 426}]\n",
      "Bac 2: [{'indexObjet': 1, 'taille': 17}, {'indexObjet': 3, 'taille': 52}, {'indexObjet': 5, 'taille': 100}]\n",
      "Bac 3: [{'indexObjet': 2, 'taille': 300}]\n"
     ]
    }
   ],
   "source": [
    "objets = [21, 17, 300, 52, 426, 100]\n",
    "bacsMax = 3\n",
    "taillebacs = 500\n",
    "\n",
    "bacs = worstFit(objets, bacsMax, taillebacs)\n",
    "for i, bac in enumerate(bacs):\n",
    "    print(f\"Bac {i+1}: {bac['contenu']}\")"
   ]
  },
  {
   "cell_type": "markdown",
   "metadata": {},
   "source": [
    "### Pour chaque algorithme de placement énoncé ci-dessus, trouver un exemple de données d’entrées pour lequel l’algorithme ne donne pas la solution optimale c’est-à-dire il utilise plus de bac que nécessaire.\n",
    "\n",
    "Quand il y a autant ou plus de bacs que d'objets ( sauf si chaque ne peut contenir q'un objet de la liste)\n",
    "quand , globalement ,  les objets sont trie dans un ordre decroissant "
   ]
  },
  {
   "cell_type": "code",
   "execution_count": 75,
   "metadata": {},
   "outputs": [
    {
     "ename": "TypeError",
     "evalue": "'int' object is not iterable",
     "output_type": "error",
     "traceback": [
      "\u001b[1;31m---------------------------------------------------------------------------\u001b[0m",
      "\u001b[1;31mTypeError\u001b[0m                                 Traceback (most recent call last)",
      "Cell \u001b[1;32mIn[75], line 5\u001b[0m\n\u001b[0;32m      3\u001b[0m taillebacs \u001b[38;5;241m=\u001b[39m \u001b[38;5;241m500\u001b[39m\n\u001b[0;32m      4\u001b[0m bacs \u001b[38;5;241m=\u001b[39m worstFit(objets, bacsMax, taillebacs)\n\u001b[1;32m----> 5\u001b[0m \u001b[38;5;28;01mfor\u001b[39;00m i, bac \u001b[38;5;129;01min\u001b[39;00m \u001b[38;5;28;43menumerate\u001b[39;49m\u001b[43m(\u001b[49m\u001b[43mbacs\u001b[49m\u001b[43m)\u001b[49m:\n\u001b[0;32m      6\u001b[0m     \u001b[38;5;28mprint\u001b[39m(\u001b[38;5;124mf\u001b[39m\u001b[38;5;124m\"\u001b[39m\u001b[38;5;124mBac \u001b[39m\u001b[38;5;132;01m{\u001b[39;00mi\u001b[38;5;241m+\u001b[39m\u001b[38;5;241m1\u001b[39m\u001b[38;5;132;01m}\u001b[39;00m\u001b[38;5;124m: \u001b[39m\u001b[38;5;132;01m{\u001b[39;00mbac[\u001b[38;5;124m'\u001b[39m\u001b[38;5;124mcontenu\u001b[39m\u001b[38;5;124m'\u001b[39m]\u001b[38;5;132;01m}\u001b[39;00m\u001b[38;5;124m\"\u001b[39m)\n",
      "\u001b[1;31mTypeError\u001b[0m: 'int' object is not iterable"
     ]
    }
   ],
   "source": [
    "objets = [212, 112,390, 426]\n",
    "bacsMax = 3\n",
    "taillebacs = 500\n",
    "bacs = worstFit(objets, bacsMax, taillebacs)\n",
    "for i, bac in enumerate(bacs):\n",
    "    print(f\"Bac {i+1}: {bac['contenu']}\")"
   ]
  },
  {
   "cell_type": "code",
   "execution_count": 76,
   "metadata": {},
   "outputs": [
    {
     "name": "stdout",
     "output_type": "stream",
     "text": [
      "Bac 1: [{'indexObjet': 0, 'taille': 417}]\n",
      "Bac 2: [{'indexObjet': 1, 'taille': 426}]\n",
      "Bac 3: [{'indexObjet': 2, 'taille': 220}, {'indexObjet': 3, 'taille': 112}]\n"
     ]
    }
   ],
   "source": [
    "objets = [417, 426 , 220, 112]\n",
    "bacsMax = 3\n",
    "taillebacs = 500\n",
    "bacs = worstFit(objets, bacsMax, taillebacs)\n",
    "for i, bac in enumerate(bacs):\n",
    "    print(f\"Bac {i+1}: {bac['contenu']}\")"
   ]
  }
 ],
 "metadata": {
  "kernelspec": {
   "display_name": "Python 3",
   "language": "python",
   "name": "python3"
  },
  "language_info": {
   "codemirror_mode": {
    "name": "ipython",
    "version": 3
   },
   "file_extension": ".py",
   "mimetype": "text/x-python",
   "name": "python",
   "nbconvert_exporter": "python",
   "pygments_lexer": "ipython3",
   "version": "3.11.4"
  }
 },
 "nbformat": 4,
 "nbformat_minor": 2
}
